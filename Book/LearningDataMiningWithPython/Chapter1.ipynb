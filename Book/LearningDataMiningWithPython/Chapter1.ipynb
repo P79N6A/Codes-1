{
 "cells": [
  {
   "cell_type": "code",
   "execution_count": 1,
   "metadata": {},
   "outputs": [],
   "source": [
    "import numpy as np\n",
    "dataset_filename = 'affinity_dataset.txt'\n",
    "table = np.loadtxt(dataset_filename)"
   ]
  },
  {
   "cell_type": "code",
   "execution_count": 3,
   "metadata": {},
   "outputs": [
    {
     "name": "stdout",
     "output_type": "stream",
     "text": [
      "[[ 0.  1.  0.  0.  0.]\n",
      " [ 1.  1.  0.  0.  0.]\n",
      " [ 0.  0.  1.  0.  1.]\n",
      " [ 1.  1.  0.  0.  0.]\n",
      " [ 0.  0.  1.  1.  1.]]\n"
     ]
    }
   ],
   "source": [
    "# 面包、牛奶、奶酪、苹果、香蕉\n",
    "features = [u'面包', u'牛奶', u'奶酪', u'苹果', u'香蕉']\n",
    "print(table[: 5])"
   ]
  },
  {
   "cell_type": "code",
   "execution_count": 13,
   "metadata": {
    "collapsed": true
   },
   "outputs": [],
   "source": [
    "# 计算规则“如果顾客购买了苹果，他们也会购买香蕉”的支持度（support）和置信度（confidence）\n",
    "# 支持度：指数据集中规则应验的次数\n",
    "# 置信度：符合给定条件（即规则的“如果”语句所表示的前提条件）的所有规则里，跟当前规则结论一致的比例\n",
    "# 规则：一条规则由前提条件和结论两部分组成。规则的优劣有多种衡量方法，常见的有支持度和置信度\n",
    "from collections import defaultdict\n",
    "valid_rules = defaultdict(int)\n",
    "invalid_rules = defaultdict(int)\n",
    "num_occurances = defaultdict(int)\n",
    "n_features = 5 # 特征个数\n",
    "for sample in table:\n",
    "    for premise in range(n_features):\n",
    "        if not sample[premise]:\n",
    "            continue\n",
    "        num_occurances[premise] += 1\n",
    "        for conclusion in range(n_features):\n",
    "            if conclusion == premise:\n",
    "                continue\n",
    "            if sample[conclusion] == 1:\n",
    "                valid_rules[(premise, conclusion)] += 1\n",
    "            else:\n",
    "                invalid_rules[(premise, conclusion)] += 1\n",
    "# 支持度\n",
    "support = valid_rules\n",
    "# 置信度\n",
    "confidence = defaultdict(float)\n",
    "for premise, conclusion in valid_rules.keys():\n",
    "    rule = (premise, conclusion)\n",
    "    confidence[rule] = valid_rules[rule] / num_occurances[premise]"
   ]
  },
  {
   "cell_type": "code",
   "execution_count": 14,
   "metadata": {
    "collapsed": true
   },
   "outputs": [],
   "source": [
    "def print_rule(premise, conclusion, support, confidence, features):\n",
    "    premise_name = features[premise]\n",
    "    conclusion_name = features[conclusion]\n",
    "    print(\"规则：如果一个人买了{}，那么他就会买{}\".format(premise_name, conclusion_name))\n",
    "    print(\" - 置信度：{:.3f}\".format(confidence[(premise, conclusion)]))\n",
    "    print(\" - 支持度：{}\".format(support[(premise, conclusion)]))"
   ]
  },
  {
   "cell_type": "code",
   "execution_count": 15,
   "metadata": {},
   "outputs": [
    {
     "name": "stdout",
     "output_type": "stream",
     "text": [
      "规则：如果一个人买了牛奶，那么他就会买苹果\n",
      " - 置信度：0.346\n",
      " - 支持度：18\n"
     ]
    }
   ],
   "source": [
    "premise = 1\n",
    "conclusion = 3\n",
    "print_rule(premise, conclusion, support, confidence, features)"
   ]
  },
  {
   "cell_type": "code",
   "execution_count": 16,
   "metadata": {
    "collapsed": true
   },
   "outputs": [],
   "source": [
    "# 找到支持度最高的\n",
    "from operator import itemgetter\n",
    "sorted_support = sorted(support.items(), key=itemgetter(1), reverse=True)"
   ]
  },
  {
   "cell_type": "code",
   "execution_count": 17,
   "metadata": {},
   "outputs": [
    {
     "name": "stdout",
     "output_type": "stream",
     "text": [
      "规则 #1\n",
      "规则：如果一个人买了苹果，那么他就会买香蕉\n",
      " - 置信度：0.628\n",
      " - 支持度：27\n",
      "规则 #2\n",
      "规则：如果一个人买了香蕉，那么他就会买苹果\n",
      " - 置信度：0.474\n",
      " - 支持度：27\n",
      "规则 #3\n",
      "规则：如果一个人买了牛奶，那么他就会买香蕉\n",
      " - 置信度：0.519\n",
      " - 支持度：27\n",
      "规则 #4\n",
      "规则：如果一个人买了香蕉，那么他就会买牛奶\n",
      " - 置信度：0.474\n",
      " - 支持度：27\n",
      "规则 #5\n",
      "规则：如果一个人买了奶酪，那么他就会买苹果\n",
      " - 置信度：0.564\n",
      " - 支持度：22\n"
     ]
    }
   ],
   "source": [
    "for index in range(5):\n",
    "    print(\"规则 #{0}\".format(index + 1))\n",
    "    premise, conclusion = sorted_support[index][0]\n",
    "    print_rule(premise, conclusion, support, confidence, features)"
   ]
  },
  {
   "cell_type": "code",
   "execution_count": 19,
   "metadata": {},
   "outputs": [
    {
     "name": "stdout",
     "output_type": "stream",
     "text": [
      "规则 #1\n",
      "规则：如果一个人买了苹果，那么他就会买香蕉\n",
      " - 置信度：0.628\n",
      " - 支持度：27\n",
      "规则 #2\n",
      "规则：如果一个人买了面包，那么他就会买香蕉\n",
      " - 置信度：0.571\n",
      " - 支持度：16\n",
      "规则 #3\n",
      "规则：如果一个人买了奶酪，那么他就会买苹果\n",
      " - 置信度：0.564\n",
      " - 支持度：22\n",
      "规则 #4\n",
      "规则：如果一个人买了牛奶，那么他就会买香蕉\n",
      " - 置信度：0.519\n",
      " - 支持度：27\n",
      "规则 #5\n",
      "规则：如果一个人买了奶酪，那么他就会买香蕉\n",
      " - 置信度：0.513\n",
      " - 支持度：20\n"
     ]
    }
   ],
   "source": [
    "# 找置信度最高的\n",
    "sorted_confidence = sorted(confidence.items(), key=itemgetter(1), reverse=True)\n",
    "for index in range(5):\n",
    "    print(\"规则 #{0}\".format(index + 1))\n",
    "    premise, conclusion = sorted_confidence[index][0]\n",
    "    print_rule(premise, conclusion, support, confidence, features)"
   ]
  },
  {
   "cell_type": "code",
   "execution_count": 4,
   "metadata": {},
   "outputs": [],
   "source": [
    "# scikit-learn库内置了著名的Iris植物分类数据集\n",
    "from sklearn.datasets import load_iris\n",
    "dataset = load_iris()\n",
    "X = dataset.data\n",
    "y = dataset.target"
   ]
  },
  {
   "cell_type": "code",
   "execution_count": 35,
   "metadata": {},
   "outputs": [],
   "source": [
    "# print(dataset.DESCR) 简介\n",
    "attribute_means = X.mean(axis=0)\n",
    "X_d = np.array(X >= attribute_means, dtype='int') # 将连续特征转为离散"
   ]
  },
  {
   "cell_type": "code",
   "execution_count": 36,
   "metadata": {},
   "outputs": [],
   "source": [
    "# OneR\n",
    "# 流程：算出每个特性在所有取值下的错误和，用以排序选出错误率最少的\n",
    "\n",
    "# 找出特征错误率\n",
    "# 数据集、类别分组、特征索引、特征值\n",
    "def train_feature_value(X, y_true, feature_index, value):\n",
    "    class_counts = defaultdict(int)\n",
    "    for sample, y in zip(X, y_true):\n",
    "        if sample[feature_index] == value:\n",
    "            class_counts[y] += 1\n",
    "    # 找出给定特征值在哪个类别中出现次数最多\n",
    "    sorted_class_counts = sorted(class_counts.items(), key=itemgetter(1), reverse=True)\n",
    "    most_frequent_class = sorted_class_counts[0][0]\n",
    "    incorrect_predictions = [class_count for class_value, class_count in class_counts.items() \n",
    "                             if class_value != most_frequent_class]\n",
    "    error = sum(incorrect_predictions)\n",
    "    return most_frequent_class, error"
   ]
  },
  {
   "cell_type": "code",
   "execution_count": 37,
   "metadata": {
    "collapsed": true
   },
   "outputs": [],
   "source": [
    "# 计算特定特征总错误率\n",
    "def train_on_feature(X, y_true, feature_index):\n",
    "    values = set(X[:,feature_index])\n",
    "    predictors = {} # key:特征值, value:类别\n",
    "    errors = []\n",
    "    for current_value in values:\n",
    "        most_fequent_class, error = train_feature_value(X, y_true, feature_index, current_value)\n",
    "        predictors[current_value] = most_fequent_class\n",
    "        errors.append(error)\n",
    "    total_error = sum(errors)\n",
    "    return predictors, total_error"
   ]
  },
  {
   "cell_type": "code",
   "execution_count": 61,
   "metadata": {},
   "outputs": [],
   "source": [
    "from sklearn.cross_validation import train_test_split\n",
    "Xd_train, Xd_test, y_train, y_test = train_test_split(X_d, y, random_state=14)  # random_state: 随机数种子\n",
    "all_predictors = {}\n",
    "errors = {}\n",
    "for feature_index in range(Xd_train.shape[1]):\n",
    "    predictors, total_error = train_on_feature(Xd_train, y_train, feature_index)\n",
    "    all_predictors[feature_index] = predictors\n",
    "    errors[feature_index] = total_error\n",
    "best_feature, best_error = sorted(errors.items(), key=itemgetter(1))[0]\n",
    "model = {\n",
    "    'variable': best_feature,\n",
    "    'predictor': all_predictors[best_feature]\n",
    "}"
   ]
  },
  {
   "cell_type": "code",
   "execution_count": 55,
   "metadata": {},
   "outputs": [],
   "source": [
    "def predict(X_test, model):\n",
    "    variable = model['variable']\n",
    "    predictor = model['predictor']\n",
    "    # 用测试集预测\n",
    "    y_predicted = np.array([predictor[int(sample[variable])] for sample in X_test])\n",
    "    return y_predicted"
   ]
  },
  {
   "cell_type": "code",
   "execution_count": 62,
   "metadata": {},
   "outputs": [
    {
     "name": "stdout",
     "output_type": "stream",
     "text": [
      "[0 0 0 2 2 2 0 2 0 2 2 0 2 2 0 2 0 2 2 2 0 0 0 2 0 2 0 2 2 0 0 0 2 0 2 0 2\n",
      " 2]\n",
      "The test accuracy is 65.8%\n"
     ]
    }
   ],
   "source": [
    "variable = model['variable']\n",
    "predictor = model['predictor']\n",
    "y_predicted = predict(Xd_test, model)\n",
    "accuracy = np.mean(y_predicted == y_test) * 100\n",
    "print(\"The test accuracy is {:.1f}%\".format(accuracy))"
   ]
  }
 ],
 "metadata": {
  "kernelspec": {
   "display_name": "Python 3",
   "language": "python",
   "name": "python3"
  },
  "language_info": {
   "codemirror_mode": {
    "name": "ipython",
    "version": 3
   },
   "file_extension": ".py",
   "mimetype": "text/x-python",
   "name": "python",
   "nbconvert_exporter": "python",
   "pygments_lexer": "ipython3",
   "version": "3.6.2"
  }
 },
 "nbformat": 4,
 "nbformat_minor": 1
}

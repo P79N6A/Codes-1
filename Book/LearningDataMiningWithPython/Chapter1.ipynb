{
 "cells": [
  {
   "cell_type": "code",
   "execution_count": 1,
   "metadata": {
    "collapsed": true
   },
   "outputs": [],
   "source": [
    "import numpy as np\n",
    "dataset_filename = 'affinity_dataset.txt'\n",
    "table = np.loadtxt(dataset_filename)"
   ]
  },
  {
   "cell_type": "code",
   "execution_count": 4,
   "metadata": {},
   "outputs": [
    {
     "name": "stdout",
     "output_type": "stream",
     "text": [
      "[[ 0.  1.  0.  0.  0.]\n",
      " [ 1.  1.  0.  0.  0.]\n",
      " [ 0.  0.  1.  0.  1.]\n",
      " [ 1.  1.  0.  0.  0.]\n",
      " [ 0.  0.  1.  1.  1.]]\n"
     ]
    }
   ],
   "source": [
    "# 面包、牛奶、奶酪、苹果、香蕉\n",
    "print(table[: 5])"
   ]
  },
  {
   "cell_type": "code",
   "execution_count": null,
   "metadata": {
    "collapsed": true
   },
   "outputs": [],
   "source": [
    "# 计算规则“如果顾客购买了苹果，他们也会购买香蕉”的支持度（support）和置信度（confidence）\n",
    "# 支持度：指数据集中规则应验的次数\n",
    "# 置信度：符合给定条件（即规则的“如果”语句所表示的前提条件）的所有规则里，跟当前规则结论一致的比例\n",
    "# 规则：一条规则由前提条件和结论两部分组成。规则的优劣有多种衡量方法，常见的有支持度和置信度"
   ]
  }
 ],
 "metadata": {
  "kernelspec": {
   "display_name": "Python 3",
   "language": "python",
   "name": "python3"
  },
  "language_info": {
   "codemirror_mode": {
    "name": "ipython",
    "version": 3
   },
   "file_extension": ".py",
   "mimetype": "text/x-python",
   "name": "python",
   "nbconvert_exporter": "python",
   "pygments_lexer": "ipython3",
   "version": "3.6.1"
  }
 },
 "nbformat": 4,
 "nbformat_minor": 2
}
